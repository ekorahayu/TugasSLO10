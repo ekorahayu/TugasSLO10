{
  "nbformat": 4,
  "nbformat_minor": 0,
  "metadata": {
    "colab": {
      "name": "TugasSLO10.ipynb",
      "provenance": [],
      "mount_file_id": "1OnyDMREAurzyR3VatkVgdDE5-Q3Jx_qS",
      "authorship_tag": "ABX9TyMYzKPotdBohrnMdKB8b/l/",
      "include_colab_link": true
    },
    "kernelspec": {
      "name": "python3",
      "display_name": "Python 3"
    }
  },
  "cells": [
    {
      "cell_type": "markdown",
      "metadata": {
        "id": "view-in-github",
        "colab_type": "text"
      },
      "source": [
        "<a href=\"https://colab.research.google.com/github/ekorahayu/TugasSLO10/blob/main/TugasSLO10.ipynb\" target=\"_parent\"><img src=\"https://colab.research.google.com/assets/colab-badge.svg\" alt=\"Open In Colab\"/></a>"
      ]
    },
    {
      "cell_type": "code",
      "metadata": {
        "id": "s_FqMmcTghCc"
      },
      "source": [
        "from google.colab import drive\n",
        "drive.mount('/content/drive')"
      ],
      "execution_count": null,
      "outputs": []
    },
    {
      "cell_type": "code",
      "metadata": {
        "colab": {
          "base_uri": "https://localhost:8080/"
        },
        "id": "VTY7a4L1pg60",
        "outputId": "34b23f19-ce41-4ee6-9e84-ef9028471669"
      },
      "source": [
        "cd /content/drive/My Drive/Colab Notebooks"
      ],
      "execution_count": 2,
      "outputs": [
        {
          "output_type": "stream",
          "text": [
            "/content/drive/My Drive/Colab Notebooks\n"
          ],
          "name": "stdout"
        }
      ]
    },
    {
      "cell_type": "code",
      "metadata": {
        "colab": {
          "base_uri": "https://localhost:8080/"
        },
        "id": "YksULMAapk1j",
        "outputId": "ee2d6ea8-bc76-4de7-d556-164fa8d549f6"
      },
      "source": [
        "ls"
      ],
      "execution_count": 3,
      "outputs": [
        {
          "output_type": "stream",
          "text": [
            " \u001b[0m\u001b[01;34m3scenes\u001b[0m/                                   'Simple ANN in Python.ipynb'\n",
            "'Basic Python, Numpy and Matplotlib.ipynb'  'Testing Hasil.ipynb'\n",
            " \u001b[01;34mdataset\u001b[0m/                                    TugasSLO10.ipynb\n"
          ],
          "name": "stdout"
        }
      ]
    }
  ]
}